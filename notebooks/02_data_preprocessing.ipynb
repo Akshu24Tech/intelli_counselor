{
 "cells": [
  {
   "cell_type": "code",
   "execution_count": 1,
   "metadata": {},
   "outputs": [],
   "source": [
    "import pandas as pd\n",
    "import numpy as np\n",
    "import os\n",
    "import joblib"
   ]
  },
  {
   "cell_type": "code",
   "execution_count": 2,
   "metadata": {},
   "outputs": [
    {
     "name": "stderr",
     "output_type": "stream",
     "text": [
      "C:\\Users\\techl\\AppData\\Local\\Temp\\ipykernel_119116\\3207554089.py:6: DtypeWarning: Columns (5,6) have mixed types. Specify dtype option on import or set low_memory=False.\n",
      "  df = pd.read_csv(COMBINED_DATA_FILE)\n"
     ]
    }
   ],
   "source": [
    "# Define file paths\n",
    "PROCESSED_DATA_PATH = '../data/processed/'\n",
    "COMBINED_DATA_FILE = os.path.join(PROCESSED_DATA_PATH, 'combined_counseling_data.csv')\n",
    "\n",
    "# Load the dataset\n",
    "df = pd.read_csv(COMBINED_DATA_FILE)"
   ]
  },
  {
   "cell_type": "code",
   "execution_count": 3,
   "metadata": {},
   "outputs": [
    {
     "name": "stdout",
     "output_type": "stream",
     "text": [
      "Loaded combined dataset with 424060 rows.\n"
     ]
    }
   ],
   "source": [
    "print(f\"Loaded combined dataset with {len(df)} rows.\")"
   ]
  },
  {
   "cell_type": "code",
   "execution_count": 4,
   "metadata": {},
   "outputs": [
    {
     "name": "stdout",
     "output_type": "stream",
     "text": [
      "Data filtered to final rounds only. We now have 67369 rows.\n"
     ]
    }
   ],
   "source": [
    "# We identify each unique seat by its combination of features\n",
    "grouping_cols = ['Year', 'Institute', 'Academic Program Name', 'Quota', 'Seat Type', 'Gender']\n",
    "\n",
    "# For each group, find the index of the row with the highest 'Round' number\n",
    "idx_final_round = df.groupby(grouping_cols)['Round'].idxmax()\n",
    "\n",
    "# Use these indices to select only the final-round rows from the original DataFrame\n",
    "df_final = df.loc[idx_final_round].copy()\n",
    "\n",
    "print(f\"Data filtered to final rounds only. We now have {len(df_final)} rows.\")"
   ]
  },
  {
   "cell_type": "code",
   "execution_count": 6,
   "metadata": {},
   "outputs": [],
   "source": [
    "# 1. Correct Data Types\n",
    "# Ensure ranks are clean numbers (integers)\n",
    "df_final['Opening Rank'] = pd.to_numeric(df_final['Opening Rank'], errors='coerce')\n",
    "df_final['Closing Rank'] = pd.to_numeric(df_final['Closing Rank'], errors='coerce')\n",
    "df_final.dropna(subset=['Opening Rank', 'Closing Rank'], inplace=True) # Drop rows if ranks were not valid numbers\n",
    "df_final[['Opening Rank', 'Closing Rank']] = df_final[['Opening Rank', 'Closing Rank']].astype(int)\n"
   ]
  },
  {
   "cell_type": "code",
   "execution_count": 7,
   "metadata": {},
   "outputs": [],
   "source": [
    "# 2. Engineer New Features 🧠\n",
    "# a. Create Institute Type\n",
    "def get_institute_type(institute):\n",
    "    if 'Indian Institute of Technology' in institute: return 'IIT'\n",
    "    if 'National Institute of Technology' in institute: return 'NIT'\n",
    "    if 'Indian Institute of Information Technology' in institute: return 'IIIT'\n",
    "    return 'GFTI'\n",
    "\n",
    "df_final['Institute_Type'] = df_final['Institute'].apply(get_institute_type)\n",
    "\n",
    "# b. Create a simple binary feature for Female-only seats\n",
    "df_final['Is_Female_Only'] = df_final['Gender'].apply(lambda x: 1 if 'Female-only' in x else 0)\n"
   ]
  },
  {
   "cell_type": "code",
   "execution_count": 8,
   "metadata": {},
   "outputs": [
    {
     "name": "stdout",
     "output_type": "stream",
     "text": [
      "✅ New features 'Institute_Type' and 'Is_Female_Only' created.\n"
     ]
    },
    {
     "data": {
      "text/html": [
       "<div>\n",
       "<style scoped>\n",
       "    .dataframe tbody tr th:only-of-type {\n",
       "        vertical-align: middle;\n",
       "    }\n",
       "\n",
       "    .dataframe tbody tr th {\n",
       "        vertical-align: top;\n",
       "    }\n",
       "\n",
       "    .dataframe thead th {\n",
       "        text-align: right;\n",
       "    }\n",
       "</style>\n",
       "<table border=\"1\" class=\"dataframe\">\n",
       "  <thead>\n",
       "    <tr style=\"text-align: right;\">\n",
       "      <th></th>\n",
       "      <th>Institute</th>\n",
       "      <th>Institute_Type</th>\n",
       "      <th>Gender</th>\n",
       "      <th>Is_Female_Only</th>\n",
       "    </tr>\n",
       "  </thead>\n",
       "  <tbody>\n",
       "    <tr>\n",
       "      <th>103215</th>\n",
       "      <td>Assam University, Silchar</td>\n",
       "      <td>GFTI</td>\n",
       "      <td>Female-only (including Supernumerary)</td>\n",
       "      <td>1</td>\n",
       "    </tr>\n",
       "    <tr>\n",
       "      <th>103214</th>\n",
       "      <td>Assam University, Silchar</td>\n",
       "      <td>GFTI</td>\n",
       "      <td>Gender-Neutral</td>\n",
       "      <td>0</td>\n",
       "    </tr>\n",
       "    <tr>\n",
       "      <th>103213</th>\n",
       "      <td>Assam University, Silchar</td>\n",
       "      <td>GFTI</td>\n",
       "      <td>Female-only (including Supernumerary)</td>\n",
       "      <td>1</td>\n",
       "    </tr>\n",
       "    <tr>\n",
       "      <th>103212</th>\n",
       "      <td>Assam University, Silchar</td>\n",
       "      <td>GFTI</td>\n",
       "      <td>Gender-Neutral</td>\n",
       "      <td>0</td>\n",
       "    </tr>\n",
       "    <tr>\n",
       "      <th>96505</th>\n",
       "      <td>Assam University, Silchar</td>\n",
       "      <td>GFTI</td>\n",
       "      <td>Gender-Neutral</td>\n",
       "      <td>0</td>\n",
       "    </tr>\n",
       "  </tbody>\n",
       "</table>\n",
       "</div>"
      ],
      "text/plain": [
       "                        Institute Institute_Type  \\\n",
       "103215  Assam University, Silchar           GFTI   \n",
       "103214  Assam University, Silchar           GFTI   \n",
       "103213  Assam University, Silchar           GFTI   \n",
       "103212  Assam University, Silchar           GFTI   \n",
       "96505   Assam University, Silchar           GFTI   \n",
       "\n",
       "                                       Gender  Is_Female_Only  \n",
       "103215  Female-only (including Supernumerary)               1  \n",
       "103214                         Gender-Neutral               0  \n",
       "103213  Female-only (including Supernumerary)               1  \n",
       "103212                         Gender-Neutral               0  \n",
       "96505                          Gender-Neutral               0  "
      ]
     },
     "metadata": {},
     "output_type": "display_data"
    }
   ],
   "source": [
    "print(\"✅ New features 'Institute_Type' and 'Is_Female_Only' created.\")\n",
    "display(df_final[['Institute', 'Institute_Type', 'Gender', 'Is_Female_Only']].head())"
   ]
  },
  {
   "cell_type": "code",
   "execution_count": 9,
   "metadata": {},
   "outputs": [
    {
     "name": "stdout",
     "output_type": "stream",
     "text": [
      "Encoding categorical features...\n"
     ]
    }
   ],
   "source": [
    "from sklearn.preprocessing import LabelEncoder\n",
    "\n",
    "# List of text-based columns we need to encode\n",
    "categorical_cols = ['Institute', 'Academic Program Name', 'Quota', 'Seat Type', 'Institute_Type']\n",
    "encoders = {} # Dictionary to save our \"translators\"\n",
    "\n",
    "print(\"Encoding categorical features...\")"
   ]
  },
  {
   "cell_type": "code",
   "execution_count": 10,
   "metadata": {},
   "outputs": [
    {
     "name": "stdout",
     "output_type": "stream",
     "text": [
      "  - 'Institute' encoded successfully.\n",
      "  - 'Academic Program Name' encoded successfully.\n",
      "  - 'Quota' encoded successfully.\n",
      "  - 'Seat Type' encoded successfully.\n",
      "  - 'Institute_Type' encoded successfully.\n"
     ]
    }
   ],
   "source": [
    "for col in categorical_cols:\n",
    "    le = LabelEncoder()\n",
    "    df_final[col + '_encoded'] = le.fit_transform(df_final[col])\n",
    "    encoders[col] = le # Save the fitted encoder for this column\n",
    "    print(f\"  - '{col}' encoded successfully.\")"
   ]
  },
  {
   "cell_type": "code",
   "execution_count": 11,
   "metadata": {},
   "outputs": [
    {
     "name": "stdout",
     "output_type": "stream",
     "text": [
      "\n",
      "✅ All encoders saved to '../data/processed/encoders.joblib'\n"
     ]
    }
   ],
   "source": [
    "# We MUST save these encoders. We'll need them later to translate new data for prediction.\n",
    "ENCODERS_PATH = os.path.join(PROCESSED_DATA_PATH, 'encoders.joblib')\n",
    "joblib.dump(encoders, ENCODERS_PATH)\n",
    "\n",
    "print(f\"\\n✅ All encoders saved to '{ENCODERS_PATH}'\")"
   ]
  },
  {
   "cell_type": "code",
   "execution_count": 12,
   "metadata": {},
   "outputs": [],
   "source": [
    "# Select only the columns needed for the model, dropping the original text columns\n",
    "model_cols = [\n",
    "    'Year', 'Opening Rank', 'Closing Rank', 'Is_Female_Only',\n",
    "    'Institute_encoded', 'Academic Program Name_encoded',\n",
    "    'Quota_encoded', 'Seat Type_encoded', 'Institute_Type_encoded'\n",
    "]\n",
    "df_model_ready = df_final[model_cols]"
   ]
  },
  {
   "cell_type": "code",
   "execution_count": 13,
   "metadata": {},
   "outputs": [
    {
     "name": "stdout",
     "output_type": "stream",
     "text": [
      "\n",
      "🎉 Preprocessing complete! Model-ready data saved to '../data/processed/preprocessed_data.csv'\n"
     ]
    },
    {
     "data": {
      "text/html": [
       "<div>\n",
       "<style scoped>\n",
       "    .dataframe tbody tr th:only-of-type {\n",
       "        vertical-align: middle;\n",
       "    }\n",
       "\n",
       "    .dataframe tbody tr th {\n",
       "        vertical-align: top;\n",
       "    }\n",
       "\n",
       "    .dataframe thead th {\n",
       "        text-align: right;\n",
       "    }\n",
       "</style>\n",
       "<table border=\"1\" class=\"dataframe\">\n",
       "  <thead>\n",
       "    <tr style=\"text-align: right;\">\n",
       "      <th></th>\n",
       "      <th>Year</th>\n",
       "      <th>Opening Rank</th>\n",
       "      <th>Closing Rank</th>\n",
       "      <th>Is_Female_Only</th>\n",
       "      <th>Institute_encoded</th>\n",
       "      <th>Academic Program Name_encoded</th>\n",
       "      <th>Quota_encoded</th>\n",
       "      <th>Seat Type_encoded</th>\n",
       "      <th>Institute_Type_encoded</th>\n",
       "    </tr>\n",
       "  </thead>\n",
       "  <tbody>\n",
       "    <tr>\n",
       "      <th>103215</th>\n",
       "      <td>2018</td>\n",
       "      <td>20319</td>\n",
       "      <td>20319</td>\n",
       "      <td>1</td>\n",
       "      <td>0</td>\n",
       "      <td>3</td>\n",
       "      <td>0</td>\n",
       "      <td>2</td>\n",
       "      <td>0</td>\n",
       "    </tr>\n",
       "    <tr>\n",
       "      <th>103214</th>\n",
       "      <td>2018</td>\n",
       "      <td>15903</td>\n",
       "      <td>17411</td>\n",
       "      <td>0</td>\n",
       "      <td>0</td>\n",
       "      <td>3</td>\n",
       "      <td>0</td>\n",
       "      <td>2</td>\n",
       "      <td>0</td>\n",
       "    </tr>\n",
       "    <tr>\n",
       "      <th>103213</th>\n",
       "      <td>2018</td>\n",
       "      <td>54981</td>\n",
       "      <td>56345</td>\n",
       "      <td>1</td>\n",
       "      <td>0</td>\n",
       "      <td>3</td>\n",
       "      <td>0</td>\n",
       "      <td>4</td>\n",
       "      <td>0</td>\n",
       "    </tr>\n",
       "    <tr>\n",
       "      <th>103212</th>\n",
       "      <td>2018</td>\n",
       "      <td>44634</td>\n",
       "      <td>57812</td>\n",
       "      <td>0</td>\n",
       "      <td>0</td>\n",
       "      <td>3</td>\n",
       "      <td>0</td>\n",
       "      <td>4</td>\n",
       "      <td>0</td>\n",
       "    </tr>\n",
       "    <tr>\n",
       "      <th>96505</th>\n",
       "      <td>2018</td>\n",
       "      <td>2247</td>\n",
       "      <td>2247</td>\n",
       "      <td>0</td>\n",
       "      <td>0</td>\n",
       "      <td>3</td>\n",
       "      <td>0</td>\n",
       "      <td>5</td>\n",
       "      <td>0</td>\n",
       "    </tr>\n",
       "  </tbody>\n",
       "</table>\n",
       "</div>"
      ],
      "text/plain": [
       "        Year  Opening Rank  Closing Rank  Is_Female_Only  Institute_encoded  \\\n",
       "103215  2018         20319         20319               1                  0   \n",
       "103214  2018         15903         17411               0                  0   \n",
       "103213  2018         54981         56345               1                  0   \n",
       "103212  2018         44634         57812               0                  0   \n",
       "96505   2018          2247          2247               0                  0   \n",
       "\n",
       "        Academic Program Name_encoded  Quota_encoded  Seat Type_encoded  \\\n",
       "103215                              3              0                  2   \n",
       "103214                              3              0                  2   \n",
       "103213                              3              0                  4   \n",
       "103212                              3              0                  4   \n",
       "96505                               3              0                  5   \n",
       "\n",
       "        Institute_Type_encoded  \n",
       "103215                       0  \n",
       "103214                       0  \n",
       "103213                       0  \n",
       "103212                       0  \n",
       "96505                        0  "
      ]
     },
     "metadata": {},
     "output_type": "display_data"
    }
   ],
   "source": [
    "# Save our final, model-ready dataset\n",
    "PREPROCESSED_DATA_FILE = os.path.join(PROCESSED_DATA_PATH, 'preprocessed_data.csv')\n",
    "df_model_ready.to_csv(PREPROCESSED_DATA_FILE, index=False)\n",
    "\n",
    "print(f\"\\n🎉 Preprocessing complete! Model-ready data saved to '{PREPROCESSED_DATA_FILE}'\")\n",
    "display(df_model_ready.head())"
   ]
  },
  {
   "cell_type": "code",
   "execution_count": null,
   "metadata": {},
   "outputs": [],
   "source": []
  }
 ],
 "metadata": {
  "kernelspec": {
   "display_name": "Python 3",
   "language": "python",
   "name": "python3"
  },
  "language_info": {
   "codemirror_mode": {
    "name": "ipython",
    "version": 3
   },
   "file_extension": ".py",
   "mimetype": "text/x-python",
   "name": "python",
   "nbconvert_exporter": "python",
   "pygments_lexer": "ipython3",
   "version": "3.12.3"
  }
 },
 "nbformat": 4,
 "nbformat_minor": 2
}
